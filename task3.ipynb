{
 "cells": [
  {
   "cell_type": "code",
   "execution_count": null,
   "metadata": {},
   "outputs": [
    {
     "name": "stdout",
     "output_type": "stream",
     "text": [
      "WARNING:tensorflow:From c:\\Users\\Максим\\AppData\\Local\\Programs\\Python\\Python312\\Lib\\site-packages\\tf_keras\\src\\losses.py:2976: The name tf.losses.sparse_softmax_cross_entropy is deprecated. Please use tf.compat.v1.losses.sparse_softmax_cross_entropy instead.\n",
      "\n"
     ]
    },
    {
     "data": {
      "application/vnd.jupyter.widget-view+json": {
       "model_id": "f2713f1e2cc44e258ffef2989a154d90",
       "version_major": 2,
       "version_minor": 0
      },
      "text/plain": [
       "model.safetensors:   0%|          | 0.00/331M [00:00<?, ?B/s]"
      ]
     },
     "metadata": {},
     "output_type": "display_data"
    },
    {
     "name": "stderr",
     "output_type": "stream",
     "text": [
      "Some weights of the model checkpoint at distilroberta-base were not used when initializing RobertaForMaskedLM: ['roberta.pooler.dense.bias', 'roberta.pooler.dense.weight']\n",
      "- This IS expected if you are initializing RobertaForMaskedLM from the checkpoint of a model trained on another task or with another architecture (e.g. initializing a BertForSequenceClassification model from a BertForPreTraining model).\n",
      "- This IS NOT expected if you are initializing RobertaForMaskedLM from the checkpoint of a model that you expect to be exactly identical (initializing a BertForSequenceClassification model from a BertForSequenceClassification model).\n"
     ]
    },
    {
     "data": {
      "application/vnd.jupyter.widget-view+json": {
       "model_id": "a2e496b3b8a84df9a0216965c5fe7202",
       "version_major": 2,
       "version_minor": 0
      },
      "text/plain": [
       "tokenizer_config.json:   0%|          | 0.00/25.0 [00:00<?, ?B/s]"
      ]
     },
     "metadata": {},
     "output_type": "display_data"
    },
    {
     "data": {
      "application/vnd.jupyter.widget-view+json": {
       "model_id": "72758cfdf5a14270a915a007090b9e98",
       "version_major": 2,
       "version_minor": 0
      },
      "text/plain": [
       "vocab.json:   0%|          | 0.00/899k [00:00<?, ?B/s]"
      ]
     },
     "metadata": {},
     "output_type": "display_data"
    },
    {
     "data": {
      "application/vnd.jupyter.widget-view+json": {
       "model_id": "597963a8e94547a88fdf046c3cbd3116",
       "version_major": 2,
       "version_minor": 0
      },
      "text/plain": [
       "merges.txt:   0%|          | 0.00/456k [00:00<?, ?B/s]"
      ]
     },
     "metadata": {},
     "output_type": "display_data"
    },
    {
     "data": {
      "application/vnd.jupyter.widget-view+json": {
       "model_id": "7a658429387d47bd8a441138e949ac8b",
       "version_major": 2,
       "version_minor": 0
      },
      "text/plain": [
       "tokenizer.json:   0%|          | 0.00/1.36M [00:00<?, ?B/s]"
      ]
     },
     "metadata": {},
     "output_type": "display_data"
    },
    {
     "name": "stderr",
     "output_type": "stream",
     "text": [
      "Device set to use cpu\n"
     ]
    },
    {
     "name": "stdout",
     "output_type": "stream",
     "text": [
      "Исходная фраза:\n",
      "After your workout, remember to focus on maintaining a good water balance.\n",
      "\n",
      "Замаскированная фраза:\n",
      "After your workout, remember to focus on maintaining a good <mask> balance.\n",
      "\n",
      "Возможные варианты заполнения:\n",
      "After your workout, remember to focus on maintaining a good body balance. \t(prob=0.5321)\n",
      "After your workout, remember to focus on maintaining a good energy balance. \t(prob=0.0754)\n",
      "After your workout, remember to focus on maintaining a good mental balance. \t(prob=0.0473)\n",
      "After your workout, remember to focus on maintaining a good muscle balance. \t(prob=0.0292)\n",
      "After your workout, remember to focus on maintaining a good physical balance. \t(prob=0.0288)\n"
     ]
    }
   ],
   "source": [
    "import torch\n",
    "from transformers import pipeline, AutoTokenizer, AutoModelForMaskedLM\n",
    "\n",
    "model_name = \"distilroberta-base\"\n",
    "fill_mask_pipe = pipeline(\"fill-mask\", model=model_name)\n",
    "\n",
    "original_sentence = \"After your workout, remember to focus on maintaining a good water balance.\"\n",
    "masked_sentence = \"After your workout, remember to focus on maintaining a good <mask> balance.\"\n",
    "\n",
    "results = fill_mask_pipe(masked_sentence)\n",
    "\n",
    "print(\"Исходная фраза:\")\n",
    "print(original_sentence)\n",
    "print(\"\\nЗамаскированная фраза:\")\n",
    "print(masked_sentence)\n",
    "print(\"\\nВозможные варианты заполнения:\")\n",
    "for r in results:\n",
    "    print(f\"{r['sequence']} \\t(prob={r['score']:.4f})\")\n"
   ]
  }
 ],
 "metadata": {
  "kernelspec": {
   "display_name": "Python 3",
   "language": "python",
   "name": "python3"
  },
  "language_info": {
   "codemirror_mode": {
    "name": "ipython",
    "version": 3
   },
   "file_extension": ".py",
   "mimetype": "text/x-python",
   "name": "python",
   "nbconvert_exporter": "python",
   "pygments_lexer": "ipython3",
   "version": "3.12.6"
  }
 },
 "nbformat": 4,
 "nbformat_minor": 2
}
